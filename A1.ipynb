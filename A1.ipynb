{
  "nbformat": 4,
  "nbformat_minor": 0,
  "metadata": {
    "colab": {
      "name": "A1.ipynb",
      "version": "0.3.2",
      "provenance": [],
      "include_colab_link": true
    },
    "kernelspec": {
      "name": "python3",
      "display_name": "Python 3"
    }
  },
  "cells": [
    {
      "cell_type": "markdown",
      "metadata": {
        "id": "view-in-github",
        "colab_type": "text"
      },
      "source": [
        "<a href=\"https://colab.research.google.com/github/SwagatikaBiswal/UTS_ML2019_ID13180144/blob/master/A1.ipynb\" target=\"_parent\"><img src=\"https://colab.research.google.com/assets/colab-badge.svg\" alt=\"Open In Colab\"/></a>"
      ]
    },
    {
      "cell_type": "code",
      "metadata": {
        "id": "QCMhdfKJ4IQa",
        "colab_type": "code",
        "colab": {}
      },
      "source": [
        "#Draft and Experiment area\n",
        "First impression \n",
        "•\t“Eigenfaces vs. Fisherfaces: Recognition Using Class Specific Linear Projection”\n",
        "•\tNew method of Fisherfaces, a derivative of Fisher’s LDA, and its comparison with other face recognition algorithms using Harvard and Yale face data base\n",
        "•\tAn interesting paper on Face detection and continuous innovation.  \n",
        "•\tThis research paper has proposed a new method of fisher faces, a derivative of Fisher’s linear discriminant techniques to deal with the glitches of lighting variations, and facial expressions in the face images to a significant extent. The paper also has an inclusion of other face recognition algorithms and the proposed innovation method outcomes to tackle the limitations of the former ones and attain much lower error rates.\n",
        "•\tCan utilize the understanding of the algorithms and concepts in future machine learning and image processing arenas. I must go for this paper.\n",
        "Critical scientific terminologies to research\n",
        "Lambertian surface\n",
        "Lambert’s cosine law\n",
        "Principal component analysis\n",
        "Linear discriminant method\n",
        "Linear subspace\n",
        "Dimensionality reduction techniques\n",
        "Image processing\n",
        "Extrapolation experiment\n",
        "Interpolation experiment\n",
        "Leaving one out strategy\n",
        "Web links\n",
        "https://ieeexplore.ieee.org/document/598228/citations?tabFilter=patents#anchor-patent-citations\n",
        "https://ieeexplore.ieee.org/document/8029092\n",
        "https://whatis.techtarget.com/definition/extrapolation-and-interpolation\n",
        "https://www.azooptics.com/Article.aspx?ArticleID=790\n",
        "http://www.scholarpedia.org/article/Fisherfaces\n"
      ],
      "execution_count": 0,
      "outputs": []
    }
  ]
}