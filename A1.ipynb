{
  "nbformat": 4,
  "nbformat_minor": 0,
  "metadata": {
    "colab": {
      "name": "A1.ipynb",
      "version": "0.3.2",
      "provenance": [],
      "include_colab_link": true
    },
    "kernelspec": {
      "name": "python3",
      "display_name": "Python 3"
    }
  },
  "cells": [
    {
      "cell_type": "markdown",
      "metadata": {
        "id": "view-in-github",
        "colab_type": "text"
      },
      "source": [
        "<a href=\"https://colab.research.google.com/github/SwagatikaBiswal/UTS_ML2019_ID13180144/blob/master/A1.ipynb\" target=\"_parent\"><img src=\"https://colab.research.google.com/assets/colab-badge.svg\" alt=\"Open In Colab\"/></a>"
      ]
    },
    {
      "cell_type": "markdown",
      "metadata": {
        "id": "KAOUsWak8iQ1",
        "colab_type": "text"
      },
      "source": [
        "# Draft and Experiment Area\n"
      ]
    },
    {
      "cell_type": "markdown",
      "metadata": {
        "id": "xTgfTsUF84BH",
        "colab_type": "text"
      },
      "source": [
        "**First impression** \n",
        "\n",
        "*   “Eigenfaces vs. Fisherfaces: Recognition Using Class Specific Linear Projection”\n",
        "*   New method of Fisherfaces, a derivative of Fisher’s LDA, and its comparison with other face recognition algorithms using Harvard and Yale face data base\n",
        "*   An interesting paper on Face detection and continuous innovation.\n",
        "*   This research paper has proposed a new method of fisher faces, a derivative of Fisher’s linear discriminant techniques to deal with the glitches of lighting variations, and facial expressions in the face images to a significant extent.\n",
        "* The paper also has an inclusion of other face recognition algorithms and the proposed innovation method outcomes to tackle the limitations of the former ones and attain much lower error rates.\n",
        "* Can utilize the understanding of the algorithms and concepts in future machine learning and image processing arenas. I must go for this paper.\n",
        "\n",
        "\n",
        "\n",
        "**Critical scientific terminologies to research**\n",
        "* Lambertian surface\n",
        "* Lambert’s cosine law\n",
        "* Principal component analysis\n",
        "* Linear discriminant method\n",
        "* Linear subspace\n",
        "* Dimensionality reduction techniques\n",
        "* Image processing\n",
        "* Extrapolation experiment\n",
        "* Interpolation experiment\n",
        "* Leaving one out strategy\n",
        "\n",
        "**Web links**\n",
        "* https://ieeexplore.ieee.org/document/598228/citations?tabFilter=patents#anchor-patent-citations\n",
        "* https://ieeexplore.ieee.org/document/8029092\n",
        "* https://whatis.techtarget.com/definition/extrapolation-and-interpolation\n",
        "* https://www.azooptics.com/Article.aspx?ArticleID=790\n",
        "* http://www.scholarpedia.org/article/Fisherfaces"
      ]
    },
    {
      "cell_type": "markdown",
      "metadata": {
        "id": "tGiVb3GX-vQH",
        "colab_type": "text"
      },
      "source": [
        "# Review report on “Eigenfaces vs. Fisherfaces: Recognition Using Class Specific Linear Projection”\n",
        "\n",
        "\n",
        "\n"
      ]
    },
    {
      "cell_type": "markdown",
      "metadata": {
        "id": "qHO-gvrvCnIx",
        "colab_type": "text"
      },
      "source": [
        "##Introduction\n",
        "Face detection is one among the recent advancements in the areas of image processing and machine learning. This piece of technology is used in identifying human faces from a set of digital images and widespread in security, surveillance, and biometrics recognition domains. As a data and technology lover, I am willing to explore recent technological advancements in the world of artificial intelligence, and machine learning techniques. This research paper has proposed a new method of fisher faces, a derivative of Fisher’s linear discriminant techniques to deal with the glitches of lighting variations, and facial expressions in the face images to a significant extent. The paper also has an inclusion of other face recognition algorithms and the proposed innovation method outcomes to tackle the limitations of the former ones and attain much lower error rates. This literature review report contains an analysis summary on the paper content, innovation lying in it, technical quality of the paper, application arenas and the critics on the presentation style.\n"
      ]
    },
    {
      "cell_type": "markdown",
      "metadata": {
        "id": "JF4De1QDC5Gc",
        "colab_type": "text"
      },
      "source": [
        "\n",
        "##Content\n",
        "The research is about experimental analysis of a new face recognition algorithm, a derivative of Fishers linear discriminant technique over the contemporary face detection methods and how efficacious it is over the old ones for face detections under variations in lightings and facial expressions. In earlier days of 19th century, many face recognition techniques were successful in detecting the static faces, but not subjecting to changes in light directions, it’s intensity, and quantity, expressions in face, and different postures. Whereas this research paper has tried to deal with these drawbacks of old methods excluding the aspect of changes in poses. It has examined experimental outcomes of four different algorithms to changes in lighting conditions, and facial expressions and discussed the limitations of each using Harvard robotics laboratory and Yale face databases respectively.\n",
        "\n",
        "Discrete methods compared are, \n",
        "1.\tCorrelation method\n",
        "2.\tEigenfaces technique using principal component analysis\n",
        "3.\tLinear subspaces method\n",
        "4.\tFisherfaces using linear discriminant and principal component analysis\n",
        "\n",
        "From a labelled training set of face images, the research paper has tried to recognize the identity of unlabelled testing set of images of a specific group of personnel, under different lighting conditions and facial expressions. The hypotheses tested was related to the concept of Lambertian surfaces, Principal component analysis (PCA), Linear discriminant analysis (LDA) and linear subspaces. (Azooptics 2014)\n",
        "\n",
        "A thorough comparison has been made between Fisherfaces, Eigenfaces, linear sub spaces and correlation techniques and how the proposed algorithm “Fisherfaces” outweighs the performances of the rest. Data has been transformed from high dimensional image space to low dimensional feature spaces in order to enhance the performance levels under changed lighting directions and facial expressions. Nearest neighbour algorithm has been used for classification for all the stated methods. PCA technique has used eigenfaces and Euclidean distance in order to match right faces from the database, whereas much faster and better Linear discriminant analysis technique has been used where the goal was classification of data samples rather than data representation only. (Martinez & Kak 2001)\n"
      ]
    },
    {
      "cell_type": "markdown",
      "metadata": {
        "id": "SYY9lcLIDHS5",
        "colab_type": "text"
      },
      "source": [
        "\n",
        "##Innovation\n",
        "The background at the time of the research work is that Face detection was a challenging task of the era. Despite plenty of innovations in this area, many were limited to either static faces or very slight changes in illumination and facial expressions. This research paper has proposed a new method of face recognition algorithm, which is based on Fisher’s discriminant analysis (FDA) and compared its performances over correlation, eigenface, and linear subspaces methods under discrete lighting conditions, and facial expressions. It has been authentic in its approach, has made significant research and analysis on the efficiencies and limitations of the algorithms utilizing Harvard and Yale face databases.\n",
        "\n",
        "The creative ideas in the research are delineated below.\n",
        "* Class specific methods like Fisher’s linear discriminant method, has been prioritised over Linear subspace and eigenface methods for the purposes of dimensionality reductions.\n",
        "* In order to deal with within class singular scatter matrix problems, when the number of samples are much less than dimensions, the method of Fisher faces tried projecting the sample vectors to lower dimensional spaces using PCA techniques, received a non-singular within class scatter matrix and then applied standard Fishers linear discriminant techniques for dimensionality reductions.(Martinez 2011)\n",
        "* This piece of research work has considered that faces are not true Lambertian surfaces where brightness is insensitive to the angle of views, rather they create automatic shadows. Henceforth, they have projected the images into the subspace in a way to disregard those deviated facial areas. \n",
        "* In order to deal with changes in facial expressions and test the algorithm behaviour with respect to the error rates, the research paper has used “leaving one out strategy” by excluding the targeted image for classification from the dataset and kept distance as a criterion for prediction.\n",
        "\n",
        "To put it in a nutshell, the paper reflects a novel way of comparing different classification algorithms, tested its own hypotheses utilizing 32 other reference articles and proposed Fisher method as a better way to deal with lighting issues and changes in facial expressions.\n",
        "\n"
      ]
    },
    {
      "cell_type": "markdown",
      "metadata": {
        "id": "48Abd0uaDZmu",
        "colab_type": "text"
      },
      "source": [
        "\n",
        "##Technical quality\n",
        "The technical development works of this paper are of good quality, and the results in the paper are replicated by many other researchers and cited by them (IEEE 1997). The proposed Fisher’s method to lever the lighting variations was experimented in Harvard robotics laboratory data set utilizing Principal component and Fisher’s linear discriminant analysis methods for dimensionality reduction, concept of Lambertian surfaces, and nearest neighbour algorithm for classification purposes. In the extrapolation experiment, prediction has been made by extending the subset sequences, whereas the method of interpolation tested the image subsets within a sequence of sets based on the direction of the light source (Techtarget 2015). The performance is then compared against eigen faces, linear subspaces and correlation methods w.r.t the error rates.\n",
        "\n",
        "![alt text](https://github.com/SwagatikaBiswal/UTS_ML2019_ID13180144/commit/91b2c9e9ebb293928909eaa4b1718f2b47ece443)\n",
        "\n",
        "It has used Yale face data base to test the changes in facial expressions, eye wear and ambient to low lightings, and compared the relative error rates with the testing image sets against cropped, full face images, using above stated methods and compared the outcomes. For the purposes of identification, it has used nearest neighbour classifier. \n",
        "\n",
        "Research works in the paper is understandable, has remained consistent and the classification techniques are well compared. It has also kept the initial assumptions clear, i.e. changes in poses are the exclusions of the paper and the new proposed algorithm is a derivative of Fisher’s LDA technique. However, nothing has been said about the Fisherfaces algorithm behaviour in large data sets, whereas it is found to be the best in these experiments with relatively low error rates.\n",
        "\n"
      ]
    },
    {
      "cell_type": "markdown",
      "metadata": {
        "id": "eiQmxQb3DmZT",
        "colab_type": "text"
      },
      "source": [
        "\n",
        "##Application and X-factor\n",
        "I find the proposal in the paper promising efficacious face recognition techniques under varying lighting conditions and facial expressions as compared to contemporary face detection techniques. However, there lies certain amount of uncertainty with the algorithm behaviour under extreme variations in lighting conditions, where it may need additional inputs from other detection algorithms. The piece of research work can be applied to exponential discriminant analysis techniques which can resolve the singularity problems associated with old linear discriminant technique. (IEEE 2017)\n",
        "\n",
        "A couple of suggestions for further developments in the research work involves experimenting with a large data set, presenting an image in a test set not very similar to the image in the training set and then analysing the outcomes from different classification techniques. I strongly believe this piece of research work can initiate a good discussion in the class, as face detection is one of the most interesting research topics in image processing, data representation and deep learning domain at recent times. The way face recognition algorithm and hypotheses stated in this paper attempted to deal with the problems of shadowing in case of non - true Lambertian face images, and discounted off those areas, and how a combination of PCA and LDA techniques dealt with dimensionality reductions created a lasting impression on my mind, and I am interested to learn more. \n"
      ]
    },
    {
      "cell_type": "markdown",
      "metadata": {
        "id": "xkBX6Uh9Dtgh",
        "colab_type": "text"
      },
      "source": [
        "\n",
        "\n",
        "##Presentation\n",
        "The overall structure of the paper is clear, and organised. I found the reading as moderate-easy to grasp the concepts, arguments and hypotheses stated. However, the presentation style of the paper is good that initially defined scope and objective of the paper, followed by experiments with the data set using different classification techniques, clear description of the outcomes including the limitations and future scope of the paper at the end. Propositions, test descriptions, and results are in depth to resolve the issue of old static techniques of face detections, however the paper would have been more attractive if an appendix containing descriptions and meanings of few critical scientific terms has been included. \n",
        "\n"
      ]
    },
    {
      "cell_type": "markdown",
      "metadata": {
        "id": "OhCiShSBDwcB",
        "colab_type": "text"
      },
      "source": [
        "##References\n",
        "\n",
        "* Azooptics 2014, What is a Lambertian surface, viewed 14 August 2019, \n",
        "<https://www.azooptics.com/Article.aspx?ArticleID=790>\n",
        "\n",
        "* IEEE xplore digital library 1997, Eigenfaces vs. Fisherfaces: recognition using class specific linear projection, viewed 20 August 2019, \n",
        "<https://ieeexplore.ieee.org/document/598228/citations?tabFilter=patents#anchor-patent-citations>\n",
        "\n",
        "* IEEE xplore digital library 2017, Sparse exponential discriminant analysis, viewed 20 August 2019, <https://ieeexplore.ieee.org/document/8029092>\n",
        "\n",
        "* Martinez, A. 2011, Fisherfaces, Scholarpedia, Brain corporation, Ohio state university, viewed 18 August 2019, <http://www.scholarpedia.org/article/Fisherfaces >\n",
        "\n",
        "* Martinez, A.M. & Kak, A.C. 2001, ‘PCA versus LDA’, IEEE transactions on pattern analysis and machine intelligence, vol. 23, no.2, pp. 228-233.\n",
        "\n",
        "* Techtarget 2015, Extrapolation and interpolation, viewed 20 August 2019 <https://whatis.techtarget.com/definition/extrapolation-and-interpolation>\n"
      ]
    }
  ]
}